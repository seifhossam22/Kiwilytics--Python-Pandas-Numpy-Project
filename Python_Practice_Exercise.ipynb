{
 "cells": [
  {
   "cell_type": "code",
   "execution_count": 2,
   "id": "94e0404c",
   "metadata": {},
   "outputs": [],
   "source": [
    "## Importing Libraries\n",
    "import numpy as np\n",
    "import pandas as pd \n",
    "import matplotlib.pyplot as plt"
   ]
  },
  {
   "cell_type": "markdown",
   "id": "eb78eaf6",
   "metadata": {},
   "source": [
    "# Data Extraction and Exploration"
   ]
  },
  {
   "cell_type": "code",
   "execution_count": 13,
   "id": "aa32e1d7",
   "metadata": {},
   "outputs": [],
   "source": [
    "#Read data csv file\n",
    "data = pd.read_csv(\"E:/dataEngineering/KiwiCourse/data/kiwilytics_orders.csv\")"
   ]
  },
  {
   "cell_type": "code",
   "execution_count": 14,
   "id": "ad981cd8",
   "metadata": {},
   "outputs": [
    {
     "data": {
      "text/html": [
       "<div>\n",
       "<style scoped>\n",
       "    .dataframe tbody tr th:only-of-type {\n",
       "        vertical-align: middle;\n",
       "    }\n",
       "\n",
       "    .dataframe tbody tr th {\n",
       "        vertical-align: top;\n",
       "    }\n",
       "\n",
       "    .dataframe thead th {\n",
       "        text-align: right;\n",
       "    }\n",
       "</style>\n",
       "<table border=\"1\" class=\"dataframe\">\n",
       "  <thead>\n",
       "    <tr style=\"text-align: right;\">\n",
       "      <th></th>\n",
       "      <th>order_id</th>\n",
       "      <th>customer_name</th>\n",
       "      <th>product</th>\n",
       "      <th>quantity</th>\n",
       "      <th>unit_price</th>\n",
       "      <th>order_date</th>\n",
       "    </tr>\n",
       "  </thead>\n",
       "  <tbody>\n",
       "    <tr>\n",
       "      <th>0</th>\n",
       "      <td>1</td>\n",
       "      <td>Maria</td>\n",
       "      <td>Kiwi Chips</td>\n",
       "      <td>2</td>\n",
       "      <td>3.0</td>\n",
       "      <td>2024-01-29</td>\n",
       "    </tr>\n",
       "    <tr>\n",
       "      <th>1</th>\n",
       "      <td>2</td>\n",
       "      <td>Richard</td>\n",
       "      <td>Kiwi Chips</td>\n",
       "      <td>1</td>\n",
       "      <td>3.0</td>\n",
       "      <td>2024-01-08</td>\n",
       "    </tr>\n",
       "    <tr>\n",
       "      <th>2</th>\n",
       "      <td>3</td>\n",
       "      <td>Nicholas</td>\n",
       "      <td>Kiwi Candy</td>\n",
       "      <td>1</td>\n",
       "      <td>2.5</td>\n",
       "      <td>2024-01-25</td>\n",
       "    </tr>\n",
       "    <tr>\n",
       "      <th>3</th>\n",
       "      <td>4</td>\n",
       "      <td>Raymond</td>\n",
       "      <td>Kiwi Candy</td>\n",
       "      <td>4</td>\n",
       "      <td>NaN</td>\n",
       "      <td>2024-01-04</td>\n",
       "    </tr>\n",
       "    <tr>\n",
       "      <th>4</th>\n",
       "      <td>5</td>\n",
       "      <td>David</td>\n",
       "      <td>Kiwi Juice</td>\n",
       "      <td>1</td>\n",
       "      <td>4.5</td>\n",
       "      <td>2024-02-25</td>\n",
       "    </tr>\n",
       "    <tr>\n",
       "      <th>5</th>\n",
       "      <td>6</td>\n",
       "      <td>Eric</td>\n",
       "      <td>Kiwi Juice</td>\n",
       "      <td>2</td>\n",
       "      <td>4.5</td>\n",
       "      <td>2024-03-20</td>\n",
       "    </tr>\n",
       "    <tr>\n",
       "      <th>6</th>\n",
       "      <td>7</td>\n",
       "      <td>Ronnie</td>\n",
       "      <td>Kiwi Chips</td>\n",
       "      <td>5</td>\n",
       "      <td>3.0</td>\n",
       "      <td>2024-01-05</td>\n",
       "    </tr>\n",
       "    <tr>\n",
       "      <th>7</th>\n",
       "      <td>8</td>\n",
       "      <td>Jesse</td>\n",
       "      <td>Kiwi Candy</td>\n",
       "      <td>1</td>\n",
       "      <td>2.5</td>\n",
       "      <td>2024-03-22</td>\n",
       "    </tr>\n",
       "    <tr>\n",
       "      <th>8</th>\n",
       "      <td>9</td>\n",
       "      <td>Thomas</td>\n",
       "      <td>Kiwi Candy</td>\n",
       "      <td>2</td>\n",
       "      <td>2.5</td>\n",
       "      <td>2024-02-14</td>\n",
       "    </tr>\n",
       "    <tr>\n",
       "      <th>9</th>\n",
       "      <td>10</td>\n",
       "      <td>Craig</td>\n",
       "      <td>Kiwi Candy</td>\n",
       "      <td>4</td>\n",
       "      <td>2.5</td>\n",
       "      <td>2024-03-17</td>\n",
       "    </tr>\n",
       "  </tbody>\n",
       "</table>\n",
       "</div>"
      ],
      "text/plain": [
       "   order_id customer_name     product  quantity  unit_price  order_date\n",
       "0         1         Maria  Kiwi Chips         2         3.0  2024-01-29\n",
       "1         2       Richard  Kiwi Chips         1         3.0  2024-01-08\n",
       "2         3      Nicholas  Kiwi Candy         1         2.5  2024-01-25\n",
       "3         4       Raymond  Kiwi Candy         4         NaN  2024-01-04\n",
       "4         5         David  Kiwi Juice         1         4.5  2024-02-25\n",
       "5         6          Eric  Kiwi Juice         2         4.5  2024-03-20\n",
       "6         7        Ronnie  Kiwi Chips         5         3.0  2024-01-05\n",
       "7         8         Jesse  Kiwi Candy         1         2.5  2024-03-22\n",
       "8         9        Thomas  Kiwi Candy         2         2.5  2024-02-14\n",
       "9        10         Craig  Kiwi Candy         4         2.5  2024-03-17"
      ]
     },
     "execution_count": 14,
     "metadata": {},
     "output_type": "execute_result"
    }
   ],
   "source": [
    "#print sample rows from the data as part of loading validation\n",
    "data.head(10)"
   ]
  },
  {
   "cell_type": "code",
   "execution_count": 15,
   "id": "71f3d792",
   "metadata": {},
   "outputs": [
    {
     "name": "stdout",
     "output_type": "stream",
     "text": [
      "<class 'pandas.core.frame.DataFrame'>\n",
      "RangeIndex: 100 entries, 0 to 99\n",
      "Data columns (total 6 columns):\n",
      " #   Column         Non-Null Count  Dtype  \n",
      "---  ------         --------------  -----  \n",
      " 0   order_id       100 non-null    int64  \n",
      " 1   customer_name  100 non-null    object \n",
      " 2   product        100 non-null    object \n",
      " 3   quantity       100 non-null    int64  \n",
      " 4   unit_price     92 non-null     float64\n",
      " 5   order_date     100 non-null    object \n",
      "dtypes: float64(1), int64(2), object(3)\n",
      "memory usage: 4.8+ KB\n"
     ]
    }
   ],
   "source": [
    "#checking data quality if null existing\n",
    "data.info()"
   ]
  },
  {
   "cell_type": "code",
   "execution_count": 16,
   "id": "2af5c863",
   "metadata": {},
   "outputs": [
    {
     "name": "stdout",
     "output_type": "stream",
     "text": [
      "92\n"
     ]
    }
   ],
   "source": [
    "# checking dublicates ## Total number of rows is 100\n",
    "\n",
    "print(data.value_counts().sum())\n",
    "\n",
    "### we are having 92 unique rows \n",
    "# which might estimates we are having duplicated rows but let's wait for handling nulls"
   ]
  },
  {
   "cell_type": "code",
   "execution_count": 17,
   "id": "67f790c2",
   "metadata": {},
   "outputs": [
    {
     "data": {
      "text/html": [
       "<div>\n",
       "<style scoped>\n",
       "    .dataframe tbody tr th:only-of-type {\n",
       "        vertical-align: middle;\n",
       "    }\n",
       "\n",
       "    .dataframe tbody tr th {\n",
       "        vertical-align: top;\n",
       "    }\n",
       "\n",
       "    .dataframe thead th {\n",
       "        text-align: right;\n",
       "    }\n",
       "</style>\n",
       "<table border=\"1\" class=\"dataframe\">\n",
       "  <thead>\n",
       "    <tr style=\"text-align: right;\">\n",
       "      <th></th>\n",
       "      <th>order_id</th>\n",
       "      <th>quantity</th>\n",
       "      <th>unit_price</th>\n",
       "    </tr>\n",
       "  </thead>\n",
       "  <tbody>\n",
       "    <tr>\n",
       "      <th>count</th>\n",
       "      <td>100.000000</td>\n",
       "      <td>100.000000</td>\n",
       "      <td>92.000000</td>\n",
       "    </tr>\n",
       "    <tr>\n",
       "      <th>mean</th>\n",
       "      <td>50.500000</td>\n",
       "      <td>2.910000</td>\n",
       "      <td>3.961957</td>\n",
       "    </tr>\n",
       "    <tr>\n",
       "      <th>std</th>\n",
       "      <td>29.011492</td>\n",
       "      <td>1.371389</td>\n",
       "      <td>1.326471</td>\n",
       "    </tr>\n",
       "    <tr>\n",
       "      <th>min</th>\n",
       "      <td>1.000000</td>\n",
       "      <td>1.000000</td>\n",
       "      <td>2.500000</td>\n",
       "    </tr>\n",
       "    <tr>\n",
       "      <th>25%</th>\n",
       "      <td>25.750000</td>\n",
       "      <td>2.000000</td>\n",
       "      <td>2.500000</td>\n",
       "    </tr>\n",
       "    <tr>\n",
       "      <th>50%</th>\n",
       "      <td>50.500000</td>\n",
       "      <td>3.000000</td>\n",
       "      <td>3.750000</td>\n",
       "    </tr>\n",
       "    <tr>\n",
       "      <th>75%</th>\n",
       "      <td>75.250000</td>\n",
       "      <td>4.000000</td>\n",
       "      <td>5.500000</td>\n",
       "    </tr>\n",
       "    <tr>\n",
       "      <th>max</th>\n",
       "      <td>100.000000</td>\n",
       "      <td>5.000000</td>\n",
       "      <td>6.000000</td>\n",
       "    </tr>\n",
       "  </tbody>\n",
       "</table>\n",
       "</div>"
      ],
      "text/plain": [
       "         order_id    quantity  unit_price\n",
       "count  100.000000  100.000000   92.000000\n",
       "mean    50.500000    2.910000    3.961957\n",
       "std     29.011492    1.371389    1.326471\n",
       "min      1.000000    1.000000    2.500000\n",
       "25%     25.750000    2.000000    2.500000\n",
       "50%     50.500000    3.000000    3.750000\n",
       "75%     75.250000    4.000000    5.500000\n",
       "max    100.000000    5.000000    6.000000"
      ]
     },
     "execution_count": 17,
     "metadata": {},
     "output_type": "execute_result"
    }
   ],
   "source": [
    "### checking descriptive summary for numerical columns\n",
    "data.describe()"
   ]
  },
  {
   "cell_type": "markdown",
   "id": "d0a0f347",
   "metadata": {},
   "source": [
    "# Data Transformation\n"
   ]
  },
  {
   "cell_type": "code",
   "execution_count": 18,
   "id": "218a9093",
   "metadata": {},
   "outputs": [
    {
     "name": "stdout",
     "output_type": "stream",
     "text": [
      "<class 'pandas.core.frame.DataFrame'>\n",
      "RangeIndex: 100 entries, 0 to 99\n",
      "Data columns (total 6 columns):\n",
      " #   Column         Non-Null Count  Dtype  \n",
      "---  ------         --------------  -----  \n",
      " 0   order_id       100 non-null    int64  \n",
      " 1   customer_name  100 non-null    object \n",
      " 2   product        100 non-null    object \n",
      " 3   quantity       100 non-null    int64  \n",
      " 4   unit_price     100 non-null    float64\n",
      " 5   order_date     100 non-null    object \n",
      "dtypes: float64(1), int64(2), object(3)\n",
      "memory usage: 4.8+ KB\n",
      "None\n"
     ]
    }
   ],
   "source": [
    "### filling nulls in the unit price column with the mean\n",
    "data['unit_price'] = data.groupby('product')['unit_price'].transform(lambda x: x.fillna(x.mean()))\n",
    "print(data.info())"
   ]
  },
  {
   "cell_type": "code",
   "execution_count": 19,
   "id": "61d43914",
   "metadata": {},
   "outputs": [
    {
     "name": "stdout",
     "output_type": "stream",
     "text": [
      "<class 'pandas.core.frame.DataFrame'>\n",
      "RangeIndex: 100 entries, 0 to 99\n",
      "Data columns (total 6 columns):\n",
      " #   Column         Non-Null Count  Dtype         \n",
      "---  ------         --------------  -----         \n",
      " 0   order_id       100 non-null    int64         \n",
      " 1   customer_name  100 non-null    object        \n",
      " 2   product        100 non-null    object        \n",
      " 3   quantity       100 non-null    int64         \n",
      " 4   unit_price     100 non-null    float64       \n",
      " 5   order_date     100 non-null    datetime64[ns]\n",
      "dtypes: datetime64[ns](1), float64(1), int64(2), object(2)\n",
      "memory usage: 4.8+ KB\n"
     ]
    }
   ],
   "source": [
    "# Setting order date to datetime\n",
    "data['order_date'] = pd.to_datetime(data['order_date'], )\n",
    "data.info()"
   ]
  },
  {
   "cell_type": "markdown",
   "id": "7e64eefd",
   "metadata": {},
   "source": [
    "###Calculate Total Revenue Across all orders"
   ]
  },
  {
   "cell_type": "code",
   "execution_count": 21,
   "id": "3ab8d1a8",
   "metadata": {},
   "outputs": [
    {
     "name": "stdout",
     "output_type": "stream",
     "text": [
      "0      6.0\n",
      "1      3.0\n",
      "2      2.5\n",
      "3     10.0\n",
      "4      4.5\n",
      "      ... \n",
      "95    22.5\n",
      "96     5.0\n",
      "97     5.0\n",
      "98     4.5\n",
      "99     9.0\n",
      "Name: total_price, Length: 100, dtype: float64\n"
     ]
    }
   ],
   "source": [
    "data['total_price'] = data['quantity'] * data['unit_price']\n",
    "print(data['total_price'])"
   ]
  },
  {
   "cell_type": "code",
   "execution_count": 22,
   "id": "4725744b",
   "metadata": {},
   "outputs": [
    {
     "name": "stdout",
     "output_type": "stream",
     "text": [
      "1167.5\n"
     ]
    }
   ],
   "source": [
    "### sum revenue\n",
    "revenue = data['total_price'].sum()\n",
    "print(revenue)"
   ]
  },
  {
   "cell_type": "code",
   "execution_count": 25,
   "id": "ae0fba6d",
   "metadata": {},
   "outputs": [
    {
     "name": "stdout",
     "output_type": "stream",
     "text": [
      "product\n",
      "Kiwi Candy       70\n",
      "Kiwi Chips       73\n",
      "Kiwi Jam         41\n",
      "Kiwi Juice       61\n",
      "Kiwi Smoothie    46\n",
      "Name: quantity, dtype: int64\n"
     ]
    }
   ],
   "source": [
    "### highest product quanitity sold\n",
    "products_sellings = data.groupby('product')['quantity'].sum()\n",
    "print(products_sellings)"
   ]
  },
  {
   "cell_type": "code",
   "execution_count": 32,
   "id": "8834a505",
   "metadata": {},
   "outputs": [
    {
     "name": "stdout",
     "output_type": "stream",
     "text": [
      "100.5\n",
      "Eric\n"
     ]
    }
   ],
   "source": [
    "### Highest customer spending\n",
    "\n",
    "HCS = data.groupby('customer_name')['total_price'].sum()\n",
    "print(HCS.max())\n",
    "print(HCS.idxmax())"
   ]
  },
  {
   "cell_type": "code",
   "execution_count": null,
   "id": "2db1a848",
   "metadata": {},
   "outputs": [],
   "source": []
  }
 ],
 "metadata": {
  "kernelspec": {
   "display_name": "base",
   "language": "python",
   "name": "python3"
  },
  "language_info": {
   "codemirror_mode": {
    "name": "ipython",
    "version": 3
   },
   "file_extension": ".py",
   "mimetype": "text/x-python",
   "name": "python",
   "nbconvert_exporter": "python",
   "pygments_lexer": "ipython3",
   "version": "3.8.5"
  }
 },
 "nbformat": 4,
 "nbformat_minor": 5
}
